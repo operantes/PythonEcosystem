{
  "nbformat": 4,
  "nbformat_minor": 0,
  "metadata": {
    "colab": {
      "name": "NumPy Exercises.ipynb",
      "provenance": []
    },
    "kernelspec": {
      "name": "python3",
      "display_name": "Python 3"
    }
  },
  "cells": [
    {
      "cell_type": "code",
      "metadata": {
        "colab": {
          "base_uri": "https://localhost:8080/"
        },
        "id": "khXGJI6VkDey",
        "outputId": "f3d5c3a7-9382-4219-a068-e01809b62405"
      },
      "source": [
        "import numpy as np\r\n",
        "\r\n",
        "np.linspace(-7, 7, 100)"
      ],
      "execution_count": 1,
      "outputs": [
        {
          "output_type": "execute_result",
          "data": {
            "text/plain": [
              "array([-7.        , -6.85858586, -6.71717172, -6.57575758, -6.43434343,\n",
              "       -6.29292929, -6.15151515, -6.01010101, -5.86868687, -5.72727273,\n",
              "       -5.58585859, -5.44444444, -5.3030303 , -5.16161616, -5.02020202,\n",
              "       -4.87878788, -4.73737374, -4.5959596 , -4.45454545, -4.31313131,\n",
              "       -4.17171717, -4.03030303, -3.88888889, -3.74747475, -3.60606061,\n",
              "       -3.46464646, -3.32323232, -3.18181818, -3.04040404, -2.8989899 ,\n",
              "       -2.75757576, -2.61616162, -2.47474747, -2.33333333, -2.19191919,\n",
              "       -2.05050505, -1.90909091, -1.76767677, -1.62626263, -1.48484848,\n",
              "       -1.34343434, -1.2020202 , -1.06060606, -0.91919192, -0.77777778,\n",
              "       -0.63636364, -0.49494949, -0.35353535, -0.21212121, -0.07070707,\n",
              "        0.07070707,  0.21212121,  0.35353535,  0.49494949,  0.63636364,\n",
              "        0.77777778,  0.91919192,  1.06060606,  1.2020202 ,  1.34343434,\n",
              "        1.48484848,  1.62626263,  1.76767677,  1.90909091,  2.05050505,\n",
              "        2.19191919,  2.33333333,  2.47474747,  2.61616162,  2.75757576,\n",
              "        2.8989899 ,  3.04040404,  3.18181818,  3.32323232,  3.46464646,\n",
              "        3.60606061,  3.74747475,  3.88888889,  4.03030303,  4.17171717,\n",
              "        4.31313131,  4.45454545,  4.5959596 ,  4.73737374,  4.87878788,\n",
              "        5.02020202,  5.16161616,  5.3030303 ,  5.44444444,  5.58585859,\n",
              "        5.72727273,  5.86868687,  6.01010101,  6.15151515,  6.29292929,\n",
              "        6.43434343,  6.57575758,  6.71717172,  6.85858586,  7.        ])"
            ]
          },
          "metadata": {
            "tags": []
          },
          "execution_count": 1
        }
      ]
    },
    {
      "cell_type": "code",
      "metadata": {
        "colab": {
          "base_uri": "https://localhost:8080/"
        },
        "id": "m602EEBYkTP9",
        "outputId": "17c214dd-05f4-4475-fe64-387f9c97dbbb"
      },
      "source": [
        "nx, ny = (5, 3)\r\n",
        "print( \"Number of x's:\", nx )\r\n",
        "print( \"Number of y's:\", ny )\r\n",
        "\r\n",
        "# We create an x-axis with a total of 'nx' marks along it\r\n",
        "x = np.linspace(0, 1, nx)\r\n",
        "# We create an y-axis with a total of 'ny' marks along it\r\n",
        "y = np.linspace(0, 1, ny)\r\n",
        "\r\n",
        "# We now create two matrices, which we will create with 'xy' reference coordinate system\r\n",
        "xv, yv = np.meshgrid(x, y)\r\n",
        "print( \"xv shape: %s %s \\n\" % xv.shape, xv  )\r\n",
        "print( \"yv shape: %s %s \\n\" % yv.shape, yv )\r\n",
        "print( \"\\nAnd now its rotated version, 90º clockwise if changing from an xy layout to an ij layout\" )\r\n",
        "\r\n",
        "# And now another two matrices, which we will create with 'xy' reference coordinate system\r\n",
        "iv, jv = np.meshgrid(x, y, indexing = 'ij' )\r\n",
        "print( \"iv shape: %s %s \\n\" % iv.shape, iv  )\r\n",
        "print( \"jv shape: %s %s \\n\" % jv.shape, jv )\r\n",
        "\r\n"
      ],
      "execution_count": 2,
      "outputs": [
        {
          "output_type": "stream",
          "text": [
            "Number of x's: 5\n",
            "Number of y's: 3\n",
            "xv shape: 3 5 \n",
            " [[0.   0.25 0.5  0.75 1.  ]\n",
            " [0.   0.25 0.5  0.75 1.  ]\n",
            " [0.   0.25 0.5  0.75 1.  ]]\n",
            "yv shape: 3 5 \n",
            " [[0.  0.  0.  0.  0. ]\n",
            " [0.5 0.5 0.5 0.5 0.5]\n",
            " [1.  1.  1.  1.  1. ]]\n",
            "\n",
            "And now its rotated version, 90º clockwise if changing from an xy layout to an ij layout\n",
            "iv shape: 5 3 \n",
            " [[0.   0.   0.  ]\n",
            " [0.25 0.25 0.25]\n",
            " [0.5  0.5  0.5 ]\n",
            " [0.75 0.75 0.75]\n",
            " [1.   1.   1.  ]]\n",
            "jv shape: 5 3 \n",
            " [[0.  0.5 1. ]\n",
            " [0.  0.5 1. ]\n",
            " [0.  0.5 1. ]\n",
            " [0.  0.5 1. ]\n",
            " [0.  0.5 1. ]]\n"
          ],
          "name": "stdout"
        }
      ]
    }
  ]
}