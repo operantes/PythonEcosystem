{
  "nbformat": 4,
  "nbformat_minor": 0,
  "metadata": {
    "colab": {
      "name": "pandas - dropna().ipynb",
      "provenance": [],
      "authorship_tag": "ABX9TyNUFGFuCM6IR4rVwODHW81o",
      "include_colab_link": true
    },
    "kernelspec": {
      "name": "python3",
      "display_name": "Python 3"
    }
  },
  "cells": [
    {
      "cell_type": "markdown",
      "metadata": {
        "id": "view-in-github",
        "colab_type": "text"
      },
      "source": [
        "<a href=\"https://colab.research.google.com/github/operantes/PythonEcosystem/blob/NumPy/pandas_dropna().ipynb\" target=\"_parent\"><img src=\"https://colab.research.google.com/assets/colab-badge.svg\" alt=\"Open In Colab\"/></a>"
      ]
    },
    {
      "cell_type": "code",
      "metadata": {
        "id": "-v6XZlUL7mJ3"
      },
      "source": [
        "# importing libraries \r\n",
        "import pandas as pd \r\n",
        "import numpy as np \r\n"
      ],
      "execution_count": 1,
      "outputs": []
    },
    {
      "cell_type": "code",
      "metadata": {
        "id": "f_GJ8oNN7tFt"
      },
      "source": [
        "# Load data  \r\n",
        "num = {'Integers': [10, 15, 30, 40, 55, np.nan, \r\n",
        "                    75, np.nan, 90, 150, np.nan]} \r\n",
        "\r\n",
        "nums = {'Integers_1': [10, 15, 30, 40, 55, np.nan,  \r\n",
        "                       75, np.nan, 90, 150, np.nan], \r\n",
        "        'Integers_2': [np.nan, 21, 22, 23, np.nan, \r\n",
        "                       24, 25, np.nan, 26, np.nan,  \r\n",
        "                       np.nan]}   \r\n",
        "\r\n",
        "nums = {'Student Number': [ 1001, 1111, 1202, 1229, 1330, \r\n",
        "                           1335, np.nan, 1400, 1150, np.nan], \r\n",
        "           'Seat Number': [np.nan, 15, 22, 43, np.nan, 44, \r\n",
        "                           55, np.nan, 57, np.nan]} \r\n",
        "\r\n",
        "car = {'Year of Launch': [ 1999, np.nan, 1986, 2020, np.nan, \r\n",
        "                          1991, 2007, 2011, 2001, 2017], \r\n",
        "           'Engine Number': [np.nan, 15, 22, 43, 44, np.nan, \r\n",
        "                             55, np.nan, 57, np.nan],  \r\n",
        "        'Chasis Unique Id': [4023, np.nan, 3115, 4522, 3643, \r\n",
        "                             3774, 2955, np.nan, 3587, np.nan]}\r\n",
        "\r\n",
        "# Create the dataframe \r\n",
        "# df = pd.DataFrame( nums, columns =[ 'Integers_1', 'Integers_2' ] ) \r\n",
        "# df = pd.DataFrame( nums, columns =[ 'Student Number', 'Seat Number' ] ) \r\n",
        "df = pd.DataFrame( car, columns =[ 'Year of Launch', 'Engine Number', 'Chasis Unique Id' ] ) "
      ],
      "execution_count": 38,
      "outputs": []
    },
    {
      "cell_type": "code",
      "metadata": {
        "colab": {
          "base_uri": "https://localhost:8080/"
        },
        "id": "fVKHDBqg7vff",
        "outputId": "1e5eb36f-aa78-4173-d9fa-e0740b587c80"
      },
      "source": [
        "print( df ); print( \"\\n\" )\r\n",
        "# dropping the rows having NaN values \r\n",
        "df = df.dropna() \r\n",
        "  \r\n",
        "# Resetting the index\r\n",
        "print( df ); print( \"\\n\" )\r\n",
        "df = df.reset_index( drop=True )\r\n",
        "print( df ) "
      ],
      "execution_count": 39,
      "outputs": [
        {
          "output_type": "stream",
          "text": [
            "   Year of Launch  Engine Number  Chasis Unique Id\n",
            "0          1999.0            NaN            4023.0\n",
            "1             NaN           15.0               NaN\n",
            "2          1986.0           22.0            3115.0\n",
            "3          2020.0           43.0            4522.0\n",
            "4             NaN           44.0            3643.0\n",
            "5          1991.0            NaN            3774.0\n",
            "6          2007.0           55.0            2955.0\n",
            "7          2011.0            NaN               NaN\n",
            "8          2001.0           57.0            3587.0\n",
            "9          2017.0            NaN               NaN\n",
            "\n",
            "\n",
            "   Year of Launch  Engine Number  Chasis Unique Id\n",
            "2          1986.0           22.0            3115.0\n",
            "3          2020.0           43.0            4522.0\n",
            "6          2007.0           55.0            2955.0\n",
            "8          2001.0           57.0            3587.0\n",
            "\n",
            "\n",
            "   Year of Launch  Engine Number  Chasis Unique Id\n",
            "0          1986.0           22.0            3115.0\n",
            "1          2020.0           43.0            4522.0\n",
            "2          2007.0           55.0            2955.0\n",
            "3          2001.0           57.0            3587.0\n"
          ],
          "name": "stdout"
        }
      ]
    }
  ]
}